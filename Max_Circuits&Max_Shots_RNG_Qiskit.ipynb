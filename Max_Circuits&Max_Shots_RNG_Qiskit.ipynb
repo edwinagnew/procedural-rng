{
 "cells": [
  {
   "cell_type": "code",
   "execution_count": 86,
   "metadata": {},
   "outputs": [],
   "source": [
    "from qiskit import IBMQ, QuantumCircuit, transpile, assemble, execute"
   ]
  },
  {
   "cell_type": "code",
   "execution_count": 87,
   "metadata": {},
   "outputs": [],
   "source": [
    "# Load account and set the simulator and desired real system\n",
    "IBMQ.load_account()\n",
    "provider = IBMQ.get_provider('ibm-q')\n",
    "\n",
    "real = provider.get_backend('ibmq_belem')\n",
    "sim = provider.get_backend('ibmq_qasm_simulator')"
   ]
  },
  {
   "cell_type": "code",
   "execution_count": 95,
   "metadata": {},
   "outputs": [],
   "source": [
    "# Set Backend to either simulator or the real system.\n",
    "backend = real\n",
    "# backend = sim\n",
    "\n",
    "# Set number of qubits for the selected system\n",
    "num_qubits = backend.configuration().num_qubits"
   ]
  },
  {
   "cell_type": "code",
   "execution_count": 96,
   "metadata": {},
   "outputs": [],
   "source": [
    "def create_rng_circuit(num_qubits):\n",
    "    '''Creates circuit with Hadamard gates on each qubit from 0-num_qubits'''\n",
    "    qc = QuantumCircuit(num_qubits, num_qubits)\n",
    "    qc.h(range(num_qubits))\n",
    "    qc.measure(range(num_qubits), range(num_qubits))\n",
    "    return qc\n",
    "\n",
    "# Uncertain with this one. I took what the system transpiles HGate into and plugged it directly into the circuit.\n",
    "def create_rng_circuit_basis_gates(num_qubits):\n",
    "    '''Creates circuit with basis gates representing a Hadamard gate on each qubit from 0-num_qubits'''\n",
    "    qc = QuantumCircuit(num_qubits, num_qubits)\n",
    "    qc.rz(1.5707963267948961, range(num_qubits))\n",
    "    qc.sx(range(num_qubits))\n",
    "    qc.rz(1.5707963267948966, range(num_qubits))\n",
    "    qc.measure(range(num_qubits), range(num_qubits))\n",
    "    return qc\n",
    "    \n",
    "\n",
    "def run(backend):\n",
    "    '''Run the job on the given backend. Sends 75 copies of an rng circuit to the backend in one job.'''\n",
    "    num_qubits = backend.configuration().num_qubits\n",
    "    max_circs = 75 # Manually set to 75 since that is the max number of circuits per job for devices\n",
    "    circ = create_rng_circuit(num_qubits)\n",
    "    circ_list = [circ] * max_circs\n",
    "    job = execute(circ_list, backend, shots=8192, memory=True)\n",
    "    return job\n",
    "\n",
    "def run_without_transpile(backend):\n",
    "    '''Run the job on the given backend. Sends 75 copies of an rng circuit to the backend in one job.\n",
    "       Skips the transpilation phase by creating a circuit with only basis gates.\n",
    "    '''\n",
    "    num_qubits = backend.configuration().num_qubits\n",
    "    max_circs = 75 # Manually set to 75 since that is the max number of circuits per job for devices\n",
    "    circ = create_rng_circuit_basis_gates(num_qubits)\n",
    "    circ_list = [circ] * max_circs\n",
    "    qobj = assemble(circ_list, shots=8192, memory=True)\n",
    "    job = backend.run(qobj)\n",
    "    return job"
   ]
  },
  {
   "cell_type": "code",
   "execution_count": 97,
   "metadata": {},
   "outputs": [],
   "source": [
    "# Run the job, either with transpilation or without.\n",
    "job = run(backend)\n",
    "# job = run_without_transpile(backend)\n"
   ]
  },
  {
   "cell_type": "code",
   "execution_count": 98,
   "metadata": {},
   "outputs": [],
   "source": [
    "# Create a list of outputs from each shot for each circuit\n",
    "memory = []\n",
    "for circ in range(75):\n",
    "    memory += job.result().get_memory(circ)"
   ]
  },
  {
   "cell_type": "code",
   "execution_count": 99,
   "metadata": {},
   "outputs": [],
   "source": [
    "def create_qubit_dict(num_qubits):\n",
    "    '''Create a dictionary which has the following structure:\n",
    "            {\n",
    "            qubit 0: {'0': 0, '1': 0},\n",
    "            ...\n",
    "            qubit n: {'0': 0, '1': 0}\n",
    "            }\n",
    "    '''\n",
    "    qubit_dict = {}\n",
    "    for x in range(num_qubits):\n",
    "        qubit_dict[x] = {'0': 0, '1': 0}\n",
    "    return qubit_dict"
   ]
  },
  {
   "cell_type": "code",
   "execution_count": 100,
   "metadata": {},
   "outputs": [],
   "source": [
    "# Populate qubit dictionary with all outputs in memory\n",
    "\n",
    "# Create dict\n",
    "per_qubit_output = create_qubit_dict(num_qubits)\n",
    "\n",
    "# Set max qubit index\n",
    "max_qubit = num_qubits - 1\n",
    "\n",
    "# Populate dict\n",
    "for output in memory:\n",
    "    for idx, val in enumerate(output):\n",
    "        qubit = max_qubit - idx # Since Qiskit's output has the LSB set to the right-most bit, we need to edit the idx\n",
    "        per_qubit_output[qubit][val] = per_qubit_output[qubit].get(val, 0) + 1"
   ]
  },
  {
   "cell_type": "code",
   "execution_count": 101,
   "metadata": {},
   "outputs": [
    {
     "name": "stdout",
     "output_type": "stream",
     "text": [
      "{0: {'0': 303830, '1': 310570},\n",
      " 1: {'0': 317424, '1': 296976},\n",
      " 2: {'0': 322724, '1': 291676},\n",
      " 3: {'0': 318228, '1': 296172},\n",
      " 4: {'0': 296809, '1': 317591}}\n"
     ]
    }
   ],
   "source": [
    "# Print out the collected results\n",
    "\n",
    "from pprint import pprint\n",
    "pprint(per_qubit_output)"
   ]
  },
  {
   "cell_type": "code",
   "execution_count": null,
   "metadata": {},
   "outputs": [],
   "source": []
  }
 ],
 "metadata": {
  "kernelspec": {
   "display_name": "Python 3",
   "language": "python",
   "name": "python3"
  },
  "language_info": {
   "codemirror_mode": {
    "name": "ipython",
    "version": 3
   },
   "file_extension": ".py",
   "mimetype": "text/x-python",
   "name": "python",
   "nbconvert_exporter": "python",
   "pygments_lexer": "ipython3",
   "version": "3.7.5"
  }
 },
 "nbformat": 4,
 "nbformat_minor": 2
}
